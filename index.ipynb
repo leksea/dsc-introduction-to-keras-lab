{
  "cells": [
    {
      "cell_type": "markdown",
      "metadata": {
        "id": "9YGK_DvCK9FI"
      },
      "source": [
        "# Keras - Lab\n",
        "\n",
        "## Introduction\n",
        "\n",
        "In this lab you'll once again build a neural network, but this time you will be using Keras to do a lot of the heavy lifting.\n",
        "\n",
        "\n",
        "## Objectives\n",
        "\n",
        "You will be able to:\n",
        "\n",
        "- Build a neural network using Keras\n",
        "- Evaluate performance of a neural network using Keras"
      ]
    },
    {
      "cell_type": "markdown",
      "metadata": {
        "id": "ZiUEklGqK9FJ"
      },
      "source": [
        "## Required Packages\n",
        "\n",
        "We'll start by importing all of the required packages and classes."
      ]
    },
    {
      "cell_type": "code",
      "execution_count": 3,
      "metadata": {
        "id": "gmYv2MlyK9FJ"
      },
      "outputs": [],
      "source": [
        "import matplotlib.pyplot as plt\n",
        "import pandas as pd\n",
        "import numpy as np\n",
        "import random\n",
        "from sklearn.model_selection import train_test_split\n",
        "from tensorflow.keras.utils import to_categorical\n",
        "from sklearn import preprocessing\n",
        "from keras.preprocessing.text import Tokenizer\n",
        "from keras import models\n",
        "from keras import layers\n",
        "from keras import optimizers"
      ]
    },
    {
      "cell_type": "markdown",
      "metadata": {
        "id": "-xqFN2gxK9FK"
      },
      "source": [
        "## Load the data\n",
        "\n",
        "In this lab you will be classifying bank complaints available in the `'Bank_complaints.csv'` file."
      ]
    },
    {
      "cell_type": "code",
      "execution_count": 2,
      "metadata": {
        "id": "C8IWUbGtK9FK",
        "outputId": "a0a5344a-e35d-456c-b4d8-ab8be79fb745",
        "colab": {
          "base_uri": "https://localhost:8080/",
          "height": 385
        }
      },
      "outputs": [
        {
          "output_type": "stream",
          "name": "stdout",
          "text": [
            "<class 'pandas.core.frame.DataFrame'>\n",
            "RangeIndex: 60000 entries, 0 to 59999\n",
            "Data columns (total 2 columns):\n",
            " #   Column                        Non-Null Count  Dtype \n",
            "---  ------                        --------------  ----- \n",
            " 0   Product                       60000 non-null  object\n",
            " 1   Consumer complaint narrative  60000 non-null  object\n",
            "dtypes: object(2)\n",
            "memory usage: 937.6+ KB\n",
            "None\n"
          ]
        },
        {
          "output_type": "execute_result",
          "data": {
            "text/plain": [
              "        Product                       Consumer complaint narrative\n",
              "0  Student loan  In XX/XX/XXXX I filled out the Fedlaon applica...\n",
              "1  Student loan  I am being contacted by a debt collector for p...\n",
              "2  Student loan  I cosigned XXXX student loans at SallieMae for...\n",
              "3  Student loan  Navient has sytematically and illegally failed...\n",
              "4  Student loan  My wife became eligible for XXXX Loan Forgiven..."
            ],
            "text/html": [
              "\n",
              "  <div id=\"df-baf6e18f-e43d-4333-b2e4-0e6fdec65c5d\" class=\"colab-df-container\">\n",
              "    <div>\n",
              "<style scoped>\n",
              "    .dataframe tbody tr th:only-of-type {\n",
              "        vertical-align: middle;\n",
              "    }\n",
              "\n",
              "    .dataframe tbody tr th {\n",
              "        vertical-align: top;\n",
              "    }\n",
              "\n",
              "    .dataframe thead th {\n",
              "        text-align: right;\n",
              "    }\n",
              "</style>\n",
              "<table border=\"1\" class=\"dataframe\">\n",
              "  <thead>\n",
              "    <tr style=\"text-align: right;\">\n",
              "      <th></th>\n",
              "      <th>Product</th>\n",
              "      <th>Consumer complaint narrative</th>\n",
              "    </tr>\n",
              "  </thead>\n",
              "  <tbody>\n",
              "    <tr>\n",
              "      <th>0</th>\n",
              "      <td>Student loan</td>\n",
              "      <td>In XX/XX/XXXX I filled out the Fedlaon applica...</td>\n",
              "    </tr>\n",
              "    <tr>\n",
              "      <th>1</th>\n",
              "      <td>Student loan</td>\n",
              "      <td>I am being contacted by a debt collector for p...</td>\n",
              "    </tr>\n",
              "    <tr>\n",
              "      <th>2</th>\n",
              "      <td>Student loan</td>\n",
              "      <td>I cosigned XXXX student loans at SallieMae for...</td>\n",
              "    </tr>\n",
              "    <tr>\n",
              "      <th>3</th>\n",
              "      <td>Student loan</td>\n",
              "      <td>Navient has sytematically and illegally failed...</td>\n",
              "    </tr>\n",
              "    <tr>\n",
              "      <th>4</th>\n",
              "      <td>Student loan</td>\n",
              "      <td>My wife became eligible for XXXX Loan Forgiven...</td>\n",
              "    </tr>\n",
              "  </tbody>\n",
              "</table>\n",
              "</div>\n",
              "    <div class=\"colab-df-buttons\">\n",
              "\n",
              "  <div class=\"colab-df-container\">\n",
              "    <button class=\"colab-df-convert\" onclick=\"convertToInteractive('df-baf6e18f-e43d-4333-b2e4-0e6fdec65c5d')\"\n",
              "            title=\"Convert this dataframe to an interactive table.\"\n",
              "            style=\"display:none;\">\n",
              "\n",
              "  <svg xmlns=\"http://www.w3.org/2000/svg\" height=\"24px\" viewBox=\"0 -960 960 960\">\n",
              "    <path d=\"M120-120v-720h720v720H120Zm60-500h600v-160H180v160Zm220 220h160v-160H400v160Zm0 220h160v-160H400v160ZM180-400h160v-160H180v160Zm440 0h160v-160H620v160ZM180-180h160v-160H180v160Zm440 0h160v-160H620v160Z\"/>\n",
              "  </svg>\n",
              "    </button>\n",
              "\n",
              "  <style>\n",
              "    .colab-df-container {\n",
              "      display:flex;\n",
              "      gap: 12px;\n",
              "    }\n",
              "\n",
              "    .colab-df-convert {\n",
              "      background-color: #E8F0FE;\n",
              "      border: none;\n",
              "      border-radius: 50%;\n",
              "      cursor: pointer;\n",
              "      display: none;\n",
              "      fill: #1967D2;\n",
              "      height: 32px;\n",
              "      padding: 0 0 0 0;\n",
              "      width: 32px;\n",
              "    }\n",
              "\n",
              "    .colab-df-convert:hover {\n",
              "      background-color: #E2EBFA;\n",
              "      box-shadow: 0px 1px 2px rgba(60, 64, 67, 0.3), 0px 1px 3px 1px rgba(60, 64, 67, 0.15);\n",
              "      fill: #174EA6;\n",
              "    }\n",
              "\n",
              "    .colab-df-buttons div {\n",
              "      margin-bottom: 4px;\n",
              "    }\n",
              "\n",
              "    [theme=dark] .colab-df-convert {\n",
              "      background-color: #3B4455;\n",
              "      fill: #D2E3FC;\n",
              "    }\n",
              "\n",
              "    [theme=dark] .colab-df-convert:hover {\n",
              "      background-color: #434B5C;\n",
              "      box-shadow: 0px 1px 3px 1px rgba(0, 0, 0, 0.15);\n",
              "      filter: drop-shadow(0px 1px 2px rgba(0, 0, 0, 0.3));\n",
              "      fill: #FFFFFF;\n",
              "    }\n",
              "  </style>\n",
              "\n",
              "    <script>\n",
              "      const buttonEl =\n",
              "        document.querySelector('#df-baf6e18f-e43d-4333-b2e4-0e6fdec65c5d button.colab-df-convert');\n",
              "      buttonEl.style.display =\n",
              "        google.colab.kernel.accessAllowed ? 'block' : 'none';\n",
              "\n",
              "      async function convertToInteractive(key) {\n",
              "        const element = document.querySelector('#df-baf6e18f-e43d-4333-b2e4-0e6fdec65c5d');\n",
              "        const dataTable =\n",
              "          await google.colab.kernel.invokeFunction('convertToInteractive',\n",
              "                                                    [key], {});\n",
              "        if (!dataTable) return;\n",
              "\n",
              "        const docLinkHtml = 'Like what you see? Visit the ' +\n",
              "          '<a target=\"_blank\" href=https://colab.research.google.com/notebooks/data_table.ipynb>data table notebook</a>'\n",
              "          + ' to learn more about interactive tables.';\n",
              "        element.innerHTML = '';\n",
              "        dataTable['output_type'] = 'display_data';\n",
              "        await google.colab.output.renderOutput(dataTable, element);\n",
              "        const docLink = document.createElement('div');\n",
              "        docLink.innerHTML = docLinkHtml;\n",
              "        element.appendChild(docLink);\n",
              "      }\n",
              "    </script>\n",
              "  </div>\n",
              "\n",
              "\n",
              "<div id=\"df-e663d4a6-a586-4e60-a311-d87f5d65daf5\">\n",
              "  <button class=\"colab-df-quickchart\" onclick=\"quickchart('df-e663d4a6-a586-4e60-a311-d87f5d65daf5')\"\n",
              "            title=\"Suggest charts\"\n",
              "            style=\"display:none;\">\n",
              "\n",
              "<svg xmlns=\"http://www.w3.org/2000/svg\" height=\"24px\"viewBox=\"0 0 24 24\"\n",
              "     width=\"24px\">\n",
              "    <g>\n",
              "        <path d=\"M19 3H5c-1.1 0-2 .9-2 2v14c0 1.1.9 2 2 2h14c1.1 0 2-.9 2-2V5c0-1.1-.9-2-2-2zM9 17H7v-7h2v7zm4 0h-2V7h2v10zm4 0h-2v-4h2v4z\"/>\n",
              "    </g>\n",
              "</svg>\n",
              "  </button>\n",
              "\n",
              "<style>\n",
              "  .colab-df-quickchart {\n",
              "      --bg-color: #E8F0FE;\n",
              "      --fill-color: #1967D2;\n",
              "      --hover-bg-color: #E2EBFA;\n",
              "      --hover-fill-color: #174EA6;\n",
              "      --disabled-fill-color: #AAA;\n",
              "      --disabled-bg-color: #DDD;\n",
              "  }\n",
              "\n",
              "  [theme=dark] .colab-df-quickchart {\n",
              "      --bg-color: #3B4455;\n",
              "      --fill-color: #D2E3FC;\n",
              "      --hover-bg-color: #434B5C;\n",
              "      --hover-fill-color: #FFFFFF;\n",
              "      --disabled-bg-color: #3B4455;\n",
              "      --disabled-fill-color: #666;\n",
              "  }\n",
              "\n",
              "  .colab-df-quickchart {\n",
              "    background-color: var(--bg-color);\n",
              "    border: none;\n",
              "    border-radius: 50%;\n",
              "    cursor: pointer;\n",
              "    display: none;\n",
              "    fill: var(--fill-color);\n",
              "    height: 32px;\n",
              "    padding: 0;\n",
              "    width: 32px;\n",
              "  }\n",
              "\n",
              "  .colab-df-quickchart:hover {\n",
              "    background-color: var(--hover-bg-color);\n",
              "    box-shadow: 0 1px 2px rgba(60, 64, 67, 0.3), 0 1px 3px 1px rgba(60, 64, 67, 0.15);\n",
              "    fill: var(--button-hover-fill-color);\n",
              "  }\n",
              "\n",
              "  .colab-df-quickchart-complete:disabled,\n",
              "  .colab-df-quickchart-complete:disabled:hover {\n",
              "    background-color: var(--disabled-bg-color);\n",
              "    fill: var(--disabled-fill-color);\n",
              "    box-shadow: none;\n",
              "  }\n",
              "\n",
              "  .colab-df-spinner {\n",
              "    border: 2px solid var(--fill-color);\n",
              "    border-color: transparent;\n",
              "    border-bottom-color: var(--fill-color);\n",
              "    animation:\n",
              "      spin 1s steps(1) infinite;\n",
              "  }\n",
              "\n",
              "  @keyframes spin {\n",
              "    0% {\n",
              "      border-color: transparent;\n",
              "      border-bottom-color: var(--fill-color);\n",
              "      border-left-color: var(--fill-color);\n",
              "    }\n",
              "    20% {\n",
              "      border-color: transparent;\n",
              "      border-left-color: var(--fill-color);\n",
              "      border-top-color: var(--fill-color);\n",
              "    }\n",
              "    30% {\n",
              "      border-color: transparent;\n",
              "      border-left-color: var(--fill-color);\n",
              "      border-top-color: var(--fill-color);\n",
              "      border-right-color: var(--fill-color);\n",
              "    }\n",
              "    40% {\n",
              "      border-color: transparent;\n",
              "      border-right-color: var(--fill-color);\n",
              "      border-top-color: var(--fill-color);\n",
              "    }\n",
              "    60% {\n",
              "      border-color: transparent;\n",
              "      border-right-color: var(--fill-color);\n",
              "    }\n",
              "    80% {\n",
              "      border-color: transparent;\n",
              "      border-right-color: var(--fill-color);\n",
              "      border-bottom-color: var(--fill-color);\n",
              "    }\n",
              "    90% {\n",
              "      border-color: transparent;\n",
              "      border-bottom-color: var(--fill-color);\n",
              "    }\n",
              "  }\n",
              "</style>\n",
              "\n",
              "  <script>\n",
              "    async function quickchart(key) {\n",
              "      const quickchartButtonEl =\n",
              "        document.querySelector('#' + key + ' button');\n",
              "      quickchartButtonEl.disabled = true;  // To prevent multiple clicks.\n",
              "      quickchartButtonEl.classList.add('colab-df-spinner');\n",
              "      try {\n",
              "        const charts = await google.colab.kernel.invokeFunction(\n",
              "            'suggestCharts', [key], {});\n",
              "      } catch (error) {\n",
              "        console.error('Error during call to suggestCharts:', error);\n",
              "      }\n",
              "      quickchartButtonEl.classList.remove('colab-df-spinner');\n",
              "      quickchartButtonEl.classList.add('colab-df-quickchart-complete');\n",
              "    }\n",
              "    (() => {\n",
              "      let quickchartButtonEl =\n",
              "        document.querySelector('#df-e663d4a6-a586-4e60-a311-d87f5d65daf5 button');\n",
              "      quickchartButtonEl.style.display =\n",
              "        google.colab.kernel.accessAllowed ? 'block' : 'none';\n",
              "    })();\n",
              "  </script>\n",
              "</div>\n",
              "\n",
              "    </div>\n",
              "  </div>\n"
            ],
            "application/vnd.google.colaboratory.intrinsic+json": {
              "type": "dataframe",
              "variable_name": "df",
              "summary": "{\n  \"name\": \"df\",\n  \"rows\": 60000,\n  \"fields\": [\n    {\n      \"column\": \"Product\",\n      \"properties\": {\n        \"dtype\": \"category\",\n        \"num_unique_values\": 7,\n        \"samples\": [\n          \"Student loan\",\n          \"Credit card\",\n          \"Mortgage\"\n        ],\n        \"semantic_type\": \"\",\n        \"description\": \"\"\n      }\n    },\n    {\n      \"column\": \"Consumer complaint narrative\",\n      \"properties\": {\n        \"dtype\": \"string\",\n        \"num_unique_values\": 59724,\n        \"samples\": [\n          \"Describe events in the order they ocurred, including any names, phone numbers, and a full description of the problem with the amount XXXX XXXX ) and date XXXX XXXX ) of any transaction XXXX XXXX ). Be as brief and complete as possible to make the explanation clear. Do not include personal or confidential information such as your social security, credit card, or bank accounts numbers. \\n\\n\\nHave had an account with Chase for approx. four years. Today they told me they are closing my account and refused to tell me why - stating its their right and they are not required by law to say why. Currently there is a small balance and next week my Social Security XXXX payment gets ACH into the account XXXX to late to stop XXXX. I was told Chase would refund the money in XXXX weeks after the account is finished closing. This will make me late on my mortage causing late fees and more. About a XXXX ago I had some NSF from auto debits. I called Chase told them would put money into the account ot cover the overdrafts ( and did so ) Chase even refund XXXX of the NSF fees as I was a good client, plus was told do n't worry everthing is ok. This is the only possible reason I can see why they would do this.\",\n          \"Huntington Bank ( XXXX branch ) refused all efforts to withdraw funds as directed. I lost the purchase of property located in Texas. \\n\\nThis bank ca n't account correctly. Essentially they stole thousands of dollars from me!\",\n          \"first after I tried to refi with them the  set 1 paym ent schedule then they tried to withdraw that. as I am struggling to make payments they keep changing the amount due from what they originally said for my fixed rate. over the years they have filed foreclosure and forced me to file bankruptcy 4 times. every other month now since  XXXX    XXXX   they send foreclosure papers out 45 days after a due date and a payment has been made even though it was more than what was set from the last refi. I made the requested payment every month even though it was more than what was set. they are the worst management company. they have service reps in  XXXX  that do not know what is goin g on in the US for days later.\"\n        ],\n        \"semantic_type\": \"\",\n        \"description\": \"\"\n      }\n    }\n  ]\n}"
            }
          },
          "metadata": {},
          "execution_count": 2
        }
      ],
      "source": [
        "# Import data\n",
        "df = pd.read_csv('https://raw.githubusercontent.com/leksea/dsc-introduction-to-keras-lab/master/Bank_complaints.csv')\n",
        "\n",
        "# Inspect data\n",
        "print(df.info())\n",
        "df.head()"
      ]
    },
    {
      "cell_type": "markdown",
      "metadata": {
        "id": "cN8sRwpcK9FK"
      },
      "source": [
        "As mentioned earlier, your task is to categorize banking complaints into various predefined categories. Preview what these categories are and what percent of the complaints each accounts for."
      ]
    },
    {
      "cell_type": "code",
      "execution_count": 5,
      "metadata": {
        "id": "6nYOsx7yK9FL",
        "outputId": "ff9ade76-16d7-4ce2-8bee-04b38b51d93d",
        "colab": {
          "base_uri": "https://localhost:8080/"
        }
      },
      "outputs": [
        {
          "output_type": "execute_result",
          "data": {
            "text/plain": [
              "Product\n",
              "Student loan                   19.006667\n",
              "Credit card                    15.900000\n",
              "Consumer Loan                  15.790000\n",
              "Mortgage                       13.886667\n",
              "Bank account or service        13.848333\n",
              "Credit reporting               11.440000\n",
              "Checking or savings account    10.128333\n",
              "Name: count, dtype: float64"
            ]
          },
          "metadata": {},
          "execution_count": 5
        }
      ],
      "source": [
        "# Your code here\n",
        "100*df['Product'].value_counts()/len(df)"
      ]
    },
    {
      "cell_type": "markdown",
      "metadata": {
        "id": "ykJ2pH7RK9FL"
      },
      "source": [
        "## Preprocessing\n",
        "\n",
        "Before we build our neural network, we need to do several preprocessing steps. First, we will create word vector counts (a bag of words type representation) of our complaints text. Next, we will change the category labels to integers. Finally, we will perform our usual train-test split before building and training our neural network using Keras. With that, let's start munging our data!\n",
        "\n",
        "## One-hot encoding of the complaints\n",
        "\n",
        "Our first step again is to transform our textual data into a numerical representation. As we saw in some of our previous lessons on NLP, there are many ways to do this. Here, we'll use the `Tokenizer()` class from the `preprocessing.text` sub-module of the Keras package.   \n",
        "\n",
        "As with our previous work using NLTK, this will transform our text complaints into word vectors. (Note that the method of creating a vector is different from our previous work with NLTK; as you'll see, word order will be preserved as opposed to a bag of words representation). In the below code, we'll only keep the 2,000 most common words and use one-hot encoding.\n",
        "\n"
      ]
    },
    {
      "cell_type": "code",
      "execution_count": 6,
      "metadata": {
        "id": "YVb5gHtXK9FL"
      },
      "outputs": [],
      "source": [
        "# As a quick preliminary, briefly review the docstring for keras.preprocessing.text.Tokenizer\n",
        "Tokenizer?"
      ]
    },
    {
      "cell_type": "code",
      "execution_count": 7,
      "metadata": {
        "id": "BkwzfooOK9FL",
        "outputId": "1c02e302-c953-4048-c4b9-efd7c4760185",
        "colab": {
          "base_uri": "https://localhost:8080/"
        }
      },
      "outputs": [
        {
          "output_type": "stream",
          "name": "stdout",
          "text": [
            "sequences type: <class 'list'>\n",
            "one_hot_results type: <class 'numpy.ndarray'>\n",
            "Found 50110 unique tokens.\n",
            "Dimensions of our coded results: (60000, 2000)\n"
          ]
        }
      ],
      "source": [
        "# ⏰ This cell may take about thirty seconds to run\n",
        "\n",
        "# Raw text complaints\n",
        "complaints = df['Consumer complaint narrative']\n",
        "\n",
        "# Initialize a tokenizer\n",
        "tokenizer = Tokenizer(num_words=2000)\n",
        "\n",
        "# Fit it to the complaints\n",
        "tokenizer.fit_on_texts(complaints)\n",
        "\n",
        "# Generate sequences\n",
        "sequences = tokenizer.texts_to_sequences(complaints)\n",
        "print('sequences type:', type(sequences))\n",
        "\n",
        "# Similar to sequences, but returns a numpy array\n",
        "one_hot_results= tokenizer.texts_to_matrix(complaints, mode='binary')\n",
        "print('one_hot_results type:', type(one_hot_results))\n",
        "\n",
        "# Useful if we wish to decode (more explanation below)\n",
        "word_index = tokenizer.word_index\n",
        "\n",
        "# Tokens are the number of unique words across the corpus\n",
        "print('Found %s unique tokens.' % len(word_index))\n",
        "\n",
        "# Our coded data\n",
        "print('Dimensions of our coded results:', np.shape(one_hot_results))"
      ]
    },
    {
      "cell_type": "markdown",
      "metadata": {
        "id": "idb1ahZ3K9FM"
      },
      "source": [
        "## Decoding Word Vectors\n",
        "\n",
        "As a note, you can also decode these vectorized representations of the reviews. The `word_index` variable, defined above, stores the mapping from the label number to the actual word. Somewhat tediously, we can turn this dictionary inside out and map it back to our word vectors, giving us roughly the original complaint back. (As you'll see, the text won't be identical as we limited ourselves to top 2000 words.)\n",
        "\n",
        "## Python Review / Mini Challenge\n",
        "\n",
        "While a bit tangential to our main topic of interest, we need to reverse our current dictionary `word_index` which maps words from our corpus to integers. In decoding our `one_hot_results`, we will need to create a dictionary of these integers to the original words. Below, take the `word_index` dictionary object and change the orientation so that the values are keys and the keys values. In other words, you are transforming something of the form {A:1, B:2, C:3} to {1:A, 2:B, 3:C}."
      ]
    },
    {
      "cell_type": "code",
      "execution_count": 10,
      "metadata": {
        "id": "eTlV2DIMK9FM"
      },
      "outputs": [],
      "source": [
        "# Your code here\n",
        "reverse_index  = dict([(value, key) for key, value in word_index.items()])"
      ]
    },
    {
      "cell_type": "markdown",
      "metadata": {
        "id": "b33jxDHnK9FM"
      },
      "source": [
        "## Back to Decoding Our Word Vectors..."
      ]
    },
    {
      "cell_type": "code",
      "execution_count": 11,
      "metadata": {
        "id": "u1T7boWpK9FM",
        "outputId": "8e2e03e1-d8e7-4fa2-f2df-304bd123e94f",
        "colab": {
          "base_uri": "https://localhost:8080/"
        }
      },
      "outputs": [
        {
          "output_type": "stream",
          "name": "stdout",
          "text": [
            "Original complaint text:\n",
            "I have already filed several complaints about AES/PHEAA. I was notified by a XXXX XXXX let @ XXXX, who pretended to be from your office, he said he was from CFPB. I found out this morning he is n't from your office, but is actually works at XXXX. \n",
            "\n",
            "This has wasted weeks of my time. They AES/PHEAA confirmed and admitted ( see attached transcript of XXXX, conversation at XXXX ( XXXX ) with XXXX that proves they verified the loans are not mine ) the student loans they had XXXX, and collected on, and reported negate credit reporting in my name are in fact, not mine. \n",
            "They conclued their investigation on XXXX admitting they made a mistake and have my name on soneone elses loans. I these XXXX loans total {$10000.00}, original amount. My XXXX loans I got was total {$3500.00}. We proved by providing AES/PHEAA, this with my original promissary notes I located recently, the XXXX of my college provided AES/PHEAA with their original shoeinf amounts of my XXXX loans which show different dates and amounts, the dates and amounts are not even close to matching these loans they have in my name, The original lender, XXXX XXXX Bank notifying AES/PHEAA, they never issued me a student loan, and original Loan Guarantor, XXXX, notifying AES/PHEAA, they never were guarantor of my loans. \n",
            "\n",
            "XXXX straight forward. But today, this person, XXXX XXXX, told me they know these loans are not mine, and they refuse to remove my name off these XXXX loan 's and correct their mistake, essentially forcing me to pay these loans off, bucause in XXXX they sold the loans to XXXX loans. \n",
            "\n",
            "This is absurd, first protruding to be this office, and then refusing to correct their mistake. \n",
            "\n",
            "Please for the love of XXXX will soneone from your office call me at XXXX, today. I am a XXXX vet and they are knowingly discriminating against me. \n",
            "Pretending to be you.\n",
            "\n",
            "\n",
            "\n",
            "Decoded review from Tokenizer:\n",
            "i have already filed several complaints about aes i was notified by a xxxx xxxx let xxxx who to be from your office he said he was from cfpb i found out this morning he is n't from your office but is actually works at xxxx this has weeks of my time they aes confirmed and admitted see attached of xxxx conversation at xxxx xxxx with xxxx that they verified the loans are not mine the student loans they had xxxx and on and reported credit reporting in my name are in fact not mine they their investigation on xxxx they made a mistake and have my name on loans i these xxxx loans total 10000 00 original amount my xxxx loans i got was total 00 we by providing aes this with my original notes i located recently the xxxx of my college provided aes with their original amounts of my xxxx loans which show different dates and amounts the dates and amounts are not even close to these loans they have in my name the original lender xxxx xxxx bank notifying aes they never issued me a student loan and original loan xxxx notifying aes they never were of my loans xxxx forward but today this person xxxx xxxx told me they know these loans are not mine and they refuse to remove my name off these xxxx loan 's and correct their mistake essentially me to pay these loans off in xxxx they sold the loans to xxxx loans this is first to be this office and then refusing to correct their mistake please for the of xxxx will from your office call me at xxxx today i am a xxxx and they are against me to be you\n"
          ]
        }
      ],
      "source": [
        "comment_idx_to_preview = 19\n",
        "print('Original complaint text:')\n",
        "print(complaints[comment_idx_to_preview])\n",
        "print('\\n\\n')\n",
        "\n",
        "# The reverse_index cell block above must be complete in order for this cell block to successively execute\n",
        "decoded_review = ' '.join([reverse_index.get(i) for i in sequences[comment_idx_to_preview]])\n",
        "print('Decoded review from Tokenizer:')\n",
        "print(decoded_review)"
      ]
    },
    {
      "cell_type": "markdown",
      "metadata": {
        "id": "gGVoB3bSK9FM"
      },
      "source": [
        "## Convert the Products to Numerical Categories\n",
        "\n",
        "On to step two of our preprocessing: converting our descriptive categories into integers."
      ]
    },
    {
      "cell_type": "code",
      "execution_count": 12,
      "metadata": {
        "id": "t3WHv-bzK9FM",
        "outputId": "4c790793-3338-49f0-b444-e271390578aa",
        "colab": {
          "base_uri": "https://localhost:8080/"
        }
      },
      "outputs": [
        {
          "output_type": "stream",
          "name": "stdout",
          "text": [
            "Original class labels:\n",
            "['Bank account or service', 'Checking or savings account', 'Consumer Loan', 'Credit card', 'Credit reporting', 'Mortgage', 'Student loan']\n",
            "\n",
            "\n",
            "New product labels:\n",
            "[6 6 6 ... 4 4 4]\n",
            "\n",
            "\n",
            "One hot labels; 7 binary columns, one for each of the categories.\n",
            "[[0. 0. 0. ... 0. 0. 1.]\n",
            " [0. 0. 0. ... 0. 0. 1.]\n",
            " [0. 0. 0. ... 0. 0. 1.]\n",
            " ...\n",
            " [0. 0. 0. ... 1. 0. 0.]\n",
            " [0. 0. 0. ... 1. 0. 0.]\n",
            " [0. 0. 0. ... 1. 0. 0.]]\n",
            "\n",
            "\n",
            "One hot labels shape:\n",
            "(60000, 7)\n"
          ]
        }
      ],
      "source": [
        "product = df['Product']\n",
        "\n",
        "# Initialize\n",
        "le = preprocessing.LabelEncoder()\n",
        "le.fit(product)\n",
        "print('Original class labels:')\n",
        "print(list(le.classes_))\n",
        "print('\\n')\n",
        "product_cat = le.transform(product)\n",
        "\n",
        "# If you wish to retrieve the original descriptive labels post production\n",
        "# list(le.inverse_transform([0, 1, 3, 3, 0, 6, 4]))\n",
        "\n",
        "print('New product labels:')\n",
        "print(product_cat)\n",
        "print('\\n')\n",
        "\n",
        "# Each row will be all zeros except for the category for that observation\n",
        "print('One hot labels; 7 binary columns, one for each of the categories.')\n",
        "product_onehot = to_categorical(product_cat)\n",
        "print(product_onehot)\n",
        "print('\\n')\n",
        "\n",
        "print('One hot labels shape:')\n",
        "print(np.shape(product_onehot))"
      ]
    },
    {
      "cell_type": "markdown",
      "metadata": {
        "id": "lnSWuhfRK9FN"
      },
      "source": [
        "## Train-test split\n",
        "\n",
        "Now for our final preprocessing step: the usual train-test split."
      ]
    },
    {
      "cell_type": "code",
      "execution_count": 13,
      "metadata": {
        "id": "MM8nAzH0K9FN",
        "outputId": "252847a7-642d-4c5f-fe07-15102fe78b2d",
        "colab": {
          "base_uri": "https://localhost:8080/"
        }
      },
      "outputs": [
        {
          "output_type": "stream",
          "name": "stdout",
          "text": [
            "Test label shape: (1500, 7)\n",
            "Train label shape: (58500, 7)\n",
            "Test shape: (1500, 2000)\n",
            "Train shape: (58500, 2000)\n"
          ]
        }
      ],
      "source": [
        "random.seed(123)\n",
        "test_index = random.sample(range(1,10000), 1500)\n",
        "\n",
        "test = one_hot_results[test_index]\n",
        "train = np.delete(one_hot_results, test_index, 0)\n",
        "\n",
        "label_test = product_onehot[test_index]\n",
        "label_train = np.delete(product_onehot, test_index, 0)\n",
        "\n",
        "print('Test label shape:', np.shape(label_test))\n",
        "print('Train label shape:', np.shape(label_train))\n",
        "print('Test shape:', np.shape(test))\n",
        "print('Train shape:', np.shape(train))"
      ]
    },
    {
      "cell_type": "markdown",
      "metadata": {
        "id": "Z4IJ8BESK9FN"
      },
      "source": [
        "## Building the network\n",
        "\n",
        "Let's build a fully connected (Dense) layer network with relu activation in Keras. You can do this using: `Dense(16, activation='relu')`.\n",
        "\n",
        "In this example, use two hidden layers with 50 units in the first layer and 25 in the second, both with a `'relu'` activation function. Because we are dealing with a multiclass problem (classifying the complaints into 7 categories), we use a use a `'softmax'` classifier in order to output 7 class probabilities per case.  "
      ]
    },
    {
      "cell_type": "code",
      "execution_count": 15,
      "metadata": {
        "id": "5styGy-rK9FN"
      },
      "outputs": [],
      "source": [
        "# Initialize a sequential model\n",
        "model = models.Sequential()\n",
        "\n",
        "#Two layers with relu activation\n",
        "model.add(layers.Dense(50, activation='relu', input_shape=(2000,)))\n",
        "model.add(layers.Dense(25, activation='relu'))\n",
        "\n",
        "# One layer with softmax activation\n",
        "model.add(layers.Dense(7, activation='softmax'))"
      ]
    },
    {
      "cell_type": "markdown",
      "metadata": {
        "id": "6Z5-ifM7K9FN"
      },
      "source": [
        "## Compiling the model\n",
        "\n",
        "Now, compile the model! This time, use `'categorical_crossentropy'` as the loss function and stochastic gradient descent, `'SGD'` as the optimizer. As in the previous lesson, include the accuracy as a metric."
      ]
    },
    {
      "cell_type": "code",
      "execution_count": 16,
      "metadata": {
        "id": "NwjvokztK9FN"
      },
      "outputs": [],
      "source": [
        "# Compile the model\n",
        "model.compile(optimizer='SGD', loss='categorical_crossentropy', metrics=['accuracy'])"
      ]
    },
    {
      "cell_type": "markdown",
      "metadata": {
        "id": "_pFwB9kNK9FN"
      },
      "source": [
        "## Training the model\n",
        "\n",
        "In the compiler, you'll be passing the optimizer (SGD = stochastic gradient descent), loss function, and metrics. Train the model for 120 epochs in mini-batches of 256 samples.\n",
        "\n",
        "_Note:_ ⏰ _Your code may take about one to two minutes to run._"
      ]
    },
    {
      "cell_type": "code",
      "execution_count": 17,
      "metadata": {
        "id": "x90vPP17K9FO",
        "outputId": "57438c6b-7fc9-4e8d-9984-0e742c3cc941",
        "colab": {
          "base_uri": "https://localhost:8080/"
        }
      },
      "outputs": [
        {
          "output_type": "stream",
          "name": "stdout",
          "text": [
            "Epoch 1/120\n",
            "183/183 [==============================] - 3s 11ms/step - loss: 1.8460 - accuracy: 0.2239 - val_loss: 2.6822 - val_accuracy: 0.0000e+00\n",
            "Epoch 2/120\n",
            "183/183 [==============================] - 2s 12ms/step - loss: 1.6404 - accuracy: 0.3803 - val_loss: 3.1171 - val_accuracy: 0.0000e+00\n",
            "Epoch 3/120\n",
            "183/183 [==============================] - 2s 12ms/step - loss: 1.3436 - accuracy: 0.5486 - val_loss: 3.5009 - val_accuracy: 0.0013\n",
            "Epoch 4/120\n",
            "183/183 [==============================] - 2s 9ms/step - loss: 1.0824 - accuracy: 0.6218 - val_loss: 3.7017 - val_accuracy: 0.0479\n",
            "Epoch 5/120\n",
            "183/183 [==============================] - 1s 8ms/step - loss: 0.9046 - accuracy: 0.6646 - val_loss: 3.8609 - val_accuracy: 0.1418\n",
            "Epoch 6/120\n",
            "183/183 [==============================] - 2s 9ms/step - loss: 0.7932 - accuracy: 0.6988 - val_loss: 3.9940 - val_accuracy: 0.2044\n",
            "Epoch 7/120\n",
            "183/183 [==============================] - 2s 9ms/step - loss: 0.7224 - accuracy: 0.7218 - val_loss: 4.1112 - val_accuracy: 0.2424\n",
            "Epoch 8/120\n",
            "183/183 [==============================] - 2s 9ms/step - loss: 0.6742 - accuracy: 0.7379 - val_loss: 4.1820 - val_accuracy: 0.2840\n",
            "Epoch 9/120\n",
            "183/183 [==============================] - 1s 8ms/step - loss: 0.6394 - accuracy: 0.7502 - val_loss: 4.2857 - val_accuracy: 0.2996\n",
            "Epoch 10/120\n",
            "183/183 [==============================] - 2s 13ms/step - loss: 0.6130 - accuracy: 0.7610 - val_loss: 4.3810 - val_accuracy: 0.3078\n",
            "Epoch 11/120\n",
            "183/183 [==============================] - 2s 13ms/step - loss: 0.5919 - accuracy: 0.7690 - val_loss: 4.4190 - val_accuracy: 0.3206\n",
            "Epoch 12/120\n",
            "183/183 [==============================] - 3s 15ms/step - loss: 0.5750 - accuracy: 0.7758 - val_loss: 4.5039 - val_accuracy: 0.3253\n",
            "Epoch 13/120\n",
            "183/183 [==============================] - 2s 9ms/step - loss: 0.5608 - accuracy: 0.7808 - val_loss: 4.5721 - val_accuracy: 0.3302\n",
            "Epoch 14/120\n",
            "183/183 [==============================] - 2s 9ms/step - loss: 0.5486 - accuracy: 0.7875 - val_loss: 4.6964 - val_accuracy: 0.3287\n",
            "Epoch 15/120\n",
            "183/183 [==============================] - 3s 17ms/step - loss: 0.5380 - accuracy: 0.7917 - val_loss: 4.7170 - val_accuracy: 0.3351\n",
            "Epoch 16/120\n",
            "183/183 [==============================] - 4s 21ms/step - loss: 0.5283 - accuracy: 0.7950 - val_loss: 4.7221 - val_accuracy: 0.3410\n",
            "Epoch 17/120\n",
            "183/183 [==============================] - 4s 20ms/step - loss: 0.5196 - accuracy: 0.8013 - val_loss: 4.8538 - val_accuracy: 0.3365\n",
            "Epoch 18/120\n",
            "183/183 [==============================] - 3s 15ms/step - loss: 0.5122 - accuracy: 0.8028 - val_loss: 4.8208 - val_accuracy: 0.3444\n",
            "Epoch 19/120\n",
            "183/183 [==============================] - 3s 17ms/step - loss: 0.5050 - accuracy: 0.8068 - val_loss: 4.9041 - val_accuracy: 0.3352\n",
            "Epoch 20/120\n",
            "183/183 [==============================] - 3s 15ms/step - loss: 0.4983 - accuracy: 0.8106 - val_loss: 4.9221 - val_accuracy: 0.3455\n",
            "Epoch 21/120\n",
            "183/183 [==============================] - 4s 19ms/step - loss: 0.4923 - accuracy: 0.8128 - val_loss: 5.0582 - val_accuracy: 0.3395\n",
            "Epoch 22/120\n",
            "183/183 [==============================] - 3s 17ms/step - loss: 0.4866 - accuracy: 0.8149 - val_loss: 5.0883 - val_accuracy: 0.3409\n",
            "Epoch 23/120\n",
            "183/183 [==============================] - 2s 12ms/step - loss: 0.4813 - accuracy: 0.8169 - val_loss: 5.1379 - val_accuracy: 0.3376\n",
            "Epoch 24/120\n",
            "183/183 [==============================] - 2s 12ms/step - loss: 0.4766 - accuracy: 0.8201 - val_loss: 5.2053 - val_accuracy: 0.3333\n",
            "Epoch 25/120\n",
            "183/183 [==============================] - 2s 10ms/step - loss: 0.4718 - accuracy: 0.8215 - val_loss: 5.1760 - val_accuracy: 0.3425\n",
            "Epoch 26/120\n",
            "183/183 [==============================] - 3s 16ms/step - loss: 0.4674 - accuracy: 0.8230 - val_loss: 5.1782 - val_accuracy: 0.3451\n",
            "Epoch 27/120\n",
            "183/183 [==============================] - 4s 20ms/step - loss: 0.4630 - accuracy: 0.8247 - val_loss: 5.2423 - val_accuracy: 0.3436\n",
            "Epoch 28/120\n",
            "183/183 [==============================] - 3s 16ms/step - loss: 0.4593 - accuracy: 0.8269 - val_loss: 5.2899 - val_accuracy: 0.3451\n",
            "Epoch 29/120\n",
            "183/183 [==============================] - 2s 14ms/step - loss: 0.4551 - accuracy: 0.8280 - val_loss: 5.2867 - val_accuracy: 0.3499\n",
            "Epoch 30/120\n",
            "183/183 [==============================] - 1s 8ms/step - loss: 0.4514 - accuracy: 0.8292 - val_loss: 5.2934 - val_accuracy: 0.3503\n",
            "Epoch 31/120\n",
            "183/183 [==============================] - 1s 8ms/step - loss: 0.4481 - accuracy: 0.8314 - val_loss: 5.3213 - val_accuracy: 0.3478\n",
            "Epoch 32/120\n",
            "183/183 [==============================] - 2s 8ms/step - loss: 0.4447 - accuracy: 0.8328 - val_loss: 5.3325 - val_accuracy: 0.3514\n",
            "Epoch 33/120\n",
            "183/183 [==============================] - 2s 12ms/step - loss: 0.4418 - accuracy: 0.8337 - val_loss: 5.3901 - val_accuracy: 0.3556\n",
            "Epoch 34/120\n",
            "183/183 [==============================] - 2s 12ms/step - loss: 0.4386 - accuracy: 0.8354 - val_loss: 5.4602 - val_accuracy: 0.3460\n",
            "Epoch 35/120\n",
            "183/183 [==============================] - 2s 8ms/step - loss: 0.4353 - accuracy: 0.8373 - val_loss: 5.4325 - val_accuracy: 0.3511\n",
            "Epoch 36/120\n",
            "183/183 [==============================] - 2s 9ms/step - loss: 0.4324 - accuracy: 0.8376 - val_loss: 5.5087 - val_accuracy: 0.3486\n",
            "Epoch 37/120\n",
            "183/183 [==============================] - 1s 8ms/step - loss: 0.4299 - accuracy: 0.8390 - val_loss: 5.5400 - val_accuracy: 0.3480\n",
            "Epoch 38/120\n",
            "183/183 [==============================] - 2s 9ms/step - loss: 0.4268 - accuracy: 0.8404 - val_loss: 5.4614 - val_accuracy: 0.3522\n",
            "Epoch 39/120\n",
            "183/183 [==============================] - 2s 9ms/step - loss: 0.4246 - accuracy: 0.8420 - val_loss: 5.4858 - val_accuracy: 0.3503\n",
            "Epoch 40/120\n",
            "183/183 [==============================] - 1s 8ms/step - loss: 0.4219 - accuracy: 0.8428 - val_loss: 5.6110 - val_accuracy: 0.3495\n",
            "Epoch 41/120\n",
            "183/183 [==============================] - 2s 11ms/step - loss: 0.4193 - accuracy: 0.8438 - val_loss: 5.5842 - val_accuracy: 0.3487\n",
            "Epoch 42/120\n",
            "183/183 [==============================] - 2s 12ms/step - loss: 0.4171 - accuracy: 0.8449 - val_loss: 5.6116 - val_accuracy: 0.3526\n",
            "Epoch 43/120\n",
            "183/183 [==============================] - 2s 9ms/step - loss: 0.4146 - accuracy: 0.8459 - val_loss: 5.6419 - val_accuracy: 0.3470\n",
            "Epoch 44/120\n",
            "183/183 [==============================] - 1s 8ms/step - loss: 0.4129 - accuracy: 0.8450 - val_loss: 5.6584 - val_accuracy: 0.3468\n",
            "Epoch 45/120\n",
            "183/183 [==============================] - 2s 9ms/step - loss: 0.4104 - accuracy: 0.8475 - val_loss: 5.6136 - val_accuracy: 0.3546\n",
            "Epoch 46/120\n",
            "183/183 [==============================] - 2s 9ms/step - loss: 0.4087 - accuracy: 0.8483 - val_loss: 5.6506 - val_accuracy: 0.3490\n",
            "Epoch 47/120\n",
            "183/183 [==============================] - 2s 8ms/step - loss: 0.4064 - accuracy: 0.8484 - val_loss: 5.6894 - val_accuracy: 0.3510\n",
            "Epoch 48/120\n",
            "183/183 [==============================] - 1s 8ms/step - loss: 0.4043 - accuracy: 0.8501 - val_loss: 5.7127 - val_accuracy: 0.3503\n",
            "Epoch 49/120\n",
            "183/183 [==============================] - 2s 9ms/step - loss: 0.4025 - accuracy: 0.8505 - val_loss: 5.7055 - val_accuracy: 0.3509\n",
            "Epoch 50/120\n",
            "183/183 [==============================] - 2s 12ms/step - loss: 0.4005 - accuracy: 0.8505 - val_loss: 5.7097 - val_accuracy: 0.3526\n",
            "Epoch 51/120\n",
            "183/183 [==============================] - 2s 11ms/step - loss: 0.3988 - accuracy: 0.8515 - val_loss: 5.7458 - val_accuracy: 0.3505\n",
            "Epoch 52/120\n",
            "183/183 [==============================] - 2s 9ms/step - loss: 0.3969 - accuracy: 0.8528 - val_loss: 5.7202 - val_accuracy: 0.3522\n",
            "Epoch 53/120\n",
            "183/183 [==============================] - 1s 8ms/step - loss: 0.3949 - accuracy: 0.8535 - val_loss: 5.7575 - val_accuracy: 0.3537\n",
            "Epoch 54/120\n",
            "183/183 [==============================] - 2s 9ms/step - loss: 0.3932 - accuracy: 0.8547 - val_loss: 5.7446 - val_accuracy: 0.3563\n",
            "Epoch 55/120\n",
            "183/183 [==============================] - 2s 8ms/step - loss: 0.3915 - accuracy: 0.8546 - val_loss: 5.7688 - val_accuracy: 0.3501\n",
            "Epoch 56/120\n",
            "183/183 [==============================] - 2s 9ms/step - loss: 0.3897 - accuracy: 0.8543 - val_loss: 5.8197 - val_accuracy: 0.3509\n",
            "Epoch 57/120\n",
            "183/183 [==============================] - 1s 8ms/step - loss: 0.3886 - accuracy: 0.8551 - val_loss: 5.8130 - val_accuracy: 0.3554\n",
            "Epoch 58/120\n",
            "183/183 [==============================] - 2s 12ms/step - loss: 0.3866 - accuracy: 0.8567 - val_loss: 5.8407 - val_accuracy: 0.3535\n",
            "Epoch 59/120\n",
            "183/183 [==============================] - 2s 12ms/step - loss: 0.3851 - accuracy: 0.8574 - val_loss: 5.8100 - val_accuracy: 0.3561\n",
            "Epoch 60/120\n",
            "183/183 [==============================] - 2s 8ms/step - loss: 0.3835 - accuracy: 0.8577 - val_loss: 5.8671 - val_accuracy: 0.3524\n",
            "Epoch 61/120\n",
            "183/183 [==============================] - 2s 8ms/step - loss: 0.3820 - accuracy: 0.8582 - val_loss: 5.8580 - val_accuracy: 0.3503\n",
            "Epoch 62/120\n",
            "183/183 [==============================] - 2s 9ms/step - loss: 0.3803 - accuracy: 0.8586 - val_loss: 5.8350 - val_accuracy: 0.3529\n",
            "Epoch 63/120\n",
            "183/183 [==============================] - 2s 9ms/step - loss: 0.3790 - accuracy: 0.8590 - val_loss: 5.8830 - val_accuracy: 0.3476\n",
            "Epoch 64/120\n",
            "183/183 [==============================] - 1s 8ms/step - loss: 0.3780 - accuracy: 0.8591 - val_loss: 5.8824 - val_accuracy: 0.3512\n",
            "Epoch 65/120\n",
            "183/183 [==============================] - 2s 9ms/step - loss: 0.3758 - accuracy: 0.8607 - val_loss: 5.8378 - val_accuracy: 0.3517\n",
            "Epoch 66/120\n",
            "183/183 [==============================] - 2s 11ms/step - loss: 0.3750 - accuracy: 0.8617 - val_loss: 5.9191 - val_accuracy: 0.3510\n",
            "Epoch 67/120\n",
            "183/183 [==============================] - 3s 18ms/step - loss: 0.3733 - accuracy: 0.8616 - val_loss: 5.8905 - val_accuracy: 0.3541\n",
            "Epoch 68/120\n",
            "183/183 [==============================] - 2s 11ms/step - loss: 0.3721 - accuracy: 0.8616 - val_loss: 5.9539 - val_accuracy: 0.3508\n",
            "Epoch 69/120\n",
            "183/183 [==============================] - 2s 9ms/step - loss: 0.3707 - accuracy: 0.8623 - val_loss: 5.8993 - val_accuracy: 0.3538\n",
            "Epoch 70/120\n",
            "183/183 [==============================] - 2s 8ms/step - loss: 0.3694 - accuracy: 0.8620 - val_loss: 5.9337 - val_accuracy: 0.3552\n",
            "Epoch 71/120\n",
            "183/183 [==============================] - 2s 8ms/step - loss: 0.3685 - accuracy: 0.8632 - val_loss: 5.9562 - val_accuracy: 0.3516\n",
            "Epoch 72/120\n",
            "183/183 [==============================] - 2s 9ms/step - loss: 0.3671 - accuracy: 0.8635 - val_loss: 5.9867 - val_accuracy: 0.3500\n",
            "Epoch 73/120\n",
            "183/183 [==============================] - 2s 9ms/step - loss: 0.3656 - accuracy: 0.8640 - val_loss: 5.9432 - val_accuracy: 0.3526\n",
            "Epoch 74/120\n",
            "183/183 [==============================] - 2s 13ms/step - loss: 0.3641 - accuracy: 0.8648 - val_loss: 5.9802 - val_accuracy: 0.3526\n",
            "Epoch 75/120\n",
            "183/183 [==============================] - 2s 12ms/step - loss: 0.3628 - accuracy: 0.8646 - val_loss: 6.0378 - val_accuracy: 0.3459\n",
            "Epoch 76/120\n",
            "183/183 [==============================] - 2s 9ms/step - loss: 0.3619 - accuracy: 0.8658 - val_loss: 6.0175 - val_accuracy: 0.3512\n",
            "Epoch 77/120\n",
            "183/183 [==============================] - 3s 17ms/step - loss: 0.3604 - accuracy: 0.8663 - val_loss: 5.9958 - val_accuracy: 0.3530\n",
            "Epoch 78/120\n",
            "183/183 [==============================] - 3s 16ms/step - loss: 0.3595 - accuracy: 0.8667 - val_loss: 5.9733 - val_accuracy: 0.3547\n",
            "Epoch 79/120\n",
            "183/183 [==============================] - 3s 16ms/step - loss: 0.3586 - accuracy: 0.8663 - val_loss: 5.9869 - val_accuracy: 0.3525\n",
            "Epoch 80/120\n",
            "183/183 [==============================] - 4s 20ms/step - loss: 0.3571 - accuracy: 0.8675 - val_loss: 5.9418 - val_accuracy: 0.3546\n",
            "Epoch 81/120\n",
            "183/183 [==============================] - 2s 13ms/step - loss: 0.3559 - accuracy: 0.8675 - val_loss: 6.0037 - val_accuracy: 0.3571\n",
            "Epoch 82/120\n",
            "183/183 [==============================] - 2s 9ms/step - loss: 0.3546 - accuracy: 0.8690 - val_loss: 6.0313 - val_accuracy: 0.3547\n",
            "Epoch 83/120\n",
            "183/183 [==============================] - 1s 8ms/step - loss: 0.3536 - accuracy: 0.8683 - val_loss: 6.0905 - val_accuracy: 0.3516\n",
            "Epoch 84/120\n",
            "183/183 [==============================] - 1s 8ms/step - loss: 0.3524 - accuracy: 0.8694 - val_loss: 6.0052 - val_accuracy: 0.3556\n",
            "Epoch 85/120\n",
            "183/183 [==============================] - 2s 8ms/step - loss: 0.3518 - accuracy: 0.8695 - val_loss: 6.0717 - val_accuracy: 0.3510\n",
            "Epoch 86/120\n",
            "183/183 [==============================] - 2s 11ms/step - loss: 0.3505 - accuracy: 0.8695 - val_loss: 6.0404 - val_accuracy: 0.3561\n",
            "Epoch 87/120\n",
            "183/183 [==============================] - 2s 13ms/step - loss: 0.3491 - accuracy: 0.8703 - val_loss: 6.0066 - val_accuracy: 0.3579\n",
            "Epoch 88/120\n",
            "183/183 [==============================] - 2s 9ms/step - loss: 0.3475 - accuracy: 0.8708 - val_loss: 6.1364 - val_accuracy: 0.3491\n",
            "Epoch 89/120\n",
            "183/183 [==============================] - 1s 8ms/step - loss: 0.3468 - accuracy: 0.8716 - val_loss: 6.0830 - val_accuracy: 0.3515\n",
            "Epoch 90/120\n",
            "183/183 [==============================] - 2s 9ms/step - loss: 0.3460 - accuracy: 0.8719 - val_loss: 6.0563 - val_accuracy: 0.3568\n",
            "Epoch 91/120\n",
            "183/183 [==============================] - 1s 8ms/step - loss: 0.3445 - accuracy: 0.8719 - val_loss: 6.0808 - val_accuracy: 0.3537\n",
            "Epoch 92/120\n",
            "183/183 [==============================] - 2s 9ms/step - loss: 0.3439 - accuracy: 0.8713 - val_loss: 6.0701 - val_accuracy: 0.3580\n",
            "Epoch 93/120\n",
            "183/183 [==============================] - 3s 14ms/step - loss: 0.3429 - accuracy: 0.8732 - val_loss: 6.1205 - val_accuracy: 0.3524\n",
            "Epoch 94/120\n",
            "183/183 [==============================] - 4s 21ms/step - loss: 0.3412 - accuracy: 0.8741 - val_loss: 6.1571 - val_accuracy: 0.3530\n",
            "Epoch 95/120\n",
            "183/183 [==============================] - 2s 13ms/step - loss: 0.3401 - accuracy: 0.8739 - val_loss: 6.1519 - val_accuracy: 0.3562\n",
            "Epoch 96/120\n",
            "183/183 [==============================] - 2s 10ms/step - loss: 0.3393 - accuracy: 0.8748 - val_loss: 6.1718 - val_accuracy: 0.3533\n",
            "Epoch 97/120\n",
            "183/183 [==============================] - 2s 9ms/step - loss: 0.3378 - accuracy: 0.8746 - val_loss: 6.2010 - val_accuracy: 0.3466\n",
            "Epoch 98/120\n",
            "183/183 [==============================] - 2s 9ms/step - loss: 0.3369 - accuracy: 0.8750 - val_loss: 6.1794 - val_accuracy: 0.3538\n",
            "Epoch 99/120\n",
            "183/183 [==============================] - 2s 9ms/step - loss: 0.3355 - accuracy: 0.8763 - val_loss: 6.2130 - val_accuracy: 0.3506\n",
            "Epoch 100/120\n",
            "183/183 [==============================] - 2s 9ms/step - loss: 0.3347 - accuracy: 0.8773 - val_loss: 6.2006 - val_accuracy: 0.3528\n",
            "Epoch 101/120\n",
            "183/183 [==============================] - 2s 12ms/step - loss: 0.3341 - accuracy: 0.8761 - val_loss: 6.2292 - val_accuracy: 0.3536\n",
            "Epoch 102/120\n",
            "183/183 [==============================] - 2s 13ms/step - loss: 0.3327 - accuracy: 0.8766 - val_loss: 6.2045 - val_accuracy: 0.3539\n",
            "Epoch 103/120\n",
            "183/183 [==============================] - 2s 9ms/step - loss: 0.3318 - accuracy: 0.8767 - val_loss: 6.2158 - val_accuracy: 0.3490\n",
            "Epoch 104/120\n",
            "183/183 [==============================] - 2s 9ms/step - loss: 0.3307 - accuracy: 0.8779 - val_loss: 6.1782 - val_accuracy: 0.3536\n",
            "Epoch 105/120\n",
            "183/183 [==============================] - 2s 9ms/step - loss: 0.3295 - accuracy: 0.8776 - val_loss: 6.2597 - val_accuracy: 0.3474\n",
            "Epoch 106/120\n",
            "183/183 [==============================] - 2s 9ms/step - loss: 0.3289 - accuracy: 0.8779 - val_loss: 6.2410 - val_accuracy: 0.3538\n",
            "Epoch 107/120\n",
            "183/183 [==============================] - 2s 9ms/step - loss: 0.3279 - accuracy: 0.8795 - val_loss: 6.2934 - val_accuracy: 0.3513\n",
            "Epoch 108/120\n",
            "183/183 [==============================] - 2s 9ms/step - loss: 0.3266 - accuracy: 0.8792 - val_loss: 6.2270 - val_accuracy: 0.3548\n",
            "Epoch 109/120\n",
            "183/183 [==============================] - 3s 14ms/step - loss: 0.3255 - accuracy: 0.8801 - val_loss: 6.2647 - val_accuracy: 0.3524\n",
            "Epoch 110/120\n",
            "183/183 [==============================] - 2s 10ms/step - loss: 0.3244 - accuracy: 0.8798 - val_loss: 6.2839 - val_accuracy: 0.3522\n",
            "Epoch 111/120\n",
            "183/183 [==============================] - 2s 9ms/step - loss: 0.3233 - accuracy: 0.8810 - val_loss: 6.3442 - val_accuracy: 0.3509\n",
            "Epoch 112/120\n",
            "183/183 [==============================] - 2s 9ms/step - loss: 0.3221 - accuracy: 0.8809 - val_loss: 6.3052 - val_accuracy: 0.3527\n",
            "Epoch 113/120\n",
            "183/183 [==============================] - 2s 9ms/step - loss: 0.3211 - accuracy: 0.8821 - val_loss: 6.2880 - val_accuracy: 0.3546\n",
            "Epoch 114/120\n",
            "183/183 [==============================] - 2s 9ms/step - loss: 0.3206 - accuracy: 0.8818 - val_loss: 6.3029 - val_accuracy: 0.3549\n",
            "Epoch 115/120\n",
            "183/183 [==============================] - 2s 9ms/step - loss: 0.3196 - accuracy: 0.8821 - val_loss: 6.2700 - val_accuracy: 0.3577\n",
            "Epoch 116/120\n",
            "183/183 [==============================] - 2s 13ms/step - loss: 0.3183 - accuracy: 0.8833 - val_loss: 6.3179 - val_accuracy: 0.3564\n",
            "Epoch 117/120\n",
            "183/183 [==============================] - 2s 13ms/step - loss: 0.3170 - accuracy: 0.8833 - val_loss: 6.3064 - val_accuracy: 0.3556\n",
            "Epoch 118/120\n",
            "183/183 [==============================] - 2s 8ms/step - loss: 0.3163 - accuracy: 0.8830 - val_loss: 6.4418 - val_accuracy: 0.3472\n",
            "Epoch 119/120\n",
            "183/183 [==============================] - 2s 9ms/step - loss: 0.3151 - accuracy: 0.8847 - val_loss: 6.3851 - val_accuracy: 0.3515\n",
            "Epoch 120/120\n",
            "183/183 [==============================] - 2s 9ms/step - loss: 0.3139 - accuracy: 0.8841 - val_loss: 6.4246 - val_accuracy: 0.3488\n"
          ]
        }
      ],
      "source": [
        "# Train the model\n",
        "history = model.fit(train, label_train, epochs=120, batch_size=256, validation_split=0.2)"
      ]
    },
    {
      "cell_type": "markdown",
      "metadata": {
        "id": "qC4KMWQcK9FO"
      },
      "source": [
        "Recall that the dictionary `history` has two entries: the loss and the accuracy achieved using the training set."
      ]
    },
    {
      "cell_type": "code",
      "execution_count": 18,
      "metadata": {
        "id": "YEJi2mY7K9FO",
        "outputId": "bc871caa-6170-4ca0-cba1-c740bacd6eb0",
        "colab": {
          "base_uri": "https://localhost:8080/"
        }
      },
      "outputs": [
        {
          "output_type": "execute_result",
          "data": {
            "text/plain": [
              "dict_keys(['loss', 'accuracy', 'val_loss', 'val_accuracy'])"
            ]
          },
          "metadata": {},
          "execution_count": 18
        }
      ],
      "source": [
        "history_dict = history.history\n",
        "history_dict.keys()"
      ]
    },
    {
      "cell_type": "markdown",
      "metadata": {
        "id": "FpxelAxkK9FO"
      },
      "source": [
        "## Plot the results\n",
        "\n",
        "As you might expect, we'll use our `matplotlib` for graphing. Use the data stored in the `history_dict` above to plot the loss vs epochs and the accuracy vs epochs."
      ]
    },
    {
      "cell_type": "code",
      "execution_count": 19,
      "metadata": {
        "id": "byl2428dK9FO",
        "outputId": "b69052f3-ab92-4f2b-e628-7193a232e3c3",
        "colab": {
          "base_uri": "https://localhost:8080/",
          "height": 472
        }
      },
      "outputs": [
        {
          "output_type": "display_data",
          "data": {
            "text/plain": [
              "<Figure size 640x480 with 1 Axes>"
            ],
            "image/png": "[encoded data removed]"
          },
          "metadata": {}
        }
      ],
      "source": [
        "# Plot the loss vs the number of epoch\n",
        "history_dict = history.history\n",
        "loss_values = history_dict['loss']\n",
        "\n",
        "epochs = range(1, len(loss_values) + 1)\n",
        "plt.plot(epochs, loss_values, 'g', label='Training loss')\n",
        "\n",
        "plt.title('Training loss')\n",
        "plt.xlabel('Epochs')\n",
        "plt.ylabel('Loss')\n",
        "plt.legend()\n",
        "plt.show()"
      ]
    },
    {
      "cell_type": "code",
      "execution_count": 20,
      "metadata": {
        "id": "J5fz5TweK9FO",
        "outputId": "72fb7e77-358e-4b43-85f2-cf7f0a48029a",
        "colab": {
          "base_uri": "https://localhost:8080/",
          "height": 472
        }
      },
      "outputs": [
        {
          "output_type": "display_data",
          "data": {
            "text/plain": [
              "<Figure size 640x480 with 1 Axes>"
            ],
            "image/png": "[encoded data removed]"
          },
          "metadata": {}
        }
      ],
      "source": [
        "# Plot the training accuracy vs the number of epochs\n",
        "history_dict = history.history\n",
        "accuracy_values = history_dict['accuracy']\n",
        "\n",
        "epochs = range(1, len(accuracy_values) + 1)\n",
        "plt.plot(epochs, accuracy_values, 'g', label='Training accuracy')\n",
        "\n",
        "plt.title('Training accuracy')\n",
        "plt.xlabel('Epochs')\n",
        "plt.ylabel('Accuracy')\n",
        "plt.legend()\n",
        "plt.show()"
      ]
    },
    {
      "cell_type": "markdown",
      "metadata": {
        "id": "_MF43qJXK9FO"
      },
      "source": [
        "It seems like we could just keep on going and accuracy would go up!"
      ]
    },
    {
      "cell_type": "markdown",
      "metadata": {
        "id": "2vhvtXiWK9FO"
      },
      "source": [
        "## Make predictions\n",
        "\n",
        "Finally, it's time to make predictions. Use the relevant method discussed in the previous lesson to output (probability) predictions for the test set."
      ]
    },
    {
      "cell_type": "code",
      "execution_count": 21,
      "metadata": {
        "id": "EzXkSa8eK9FO",
        "outputId": "f717c223-bc67-41f7-9153-a3522ceeb239",
        "colab": {
          "base_uri": "https://localhost:8080/"
        }
      },
      "outputs": [
        {
          "output_type": "stream",
          "name": "stdout",
          "text": [
            "47/47 [==============================] - 0s 4ms/step\n"
          ]
        }
      ],
      "source": [
        "# Output (probability) predictions for the test set\n",
        "y_hat_test = model.predict(test)"
      ]
    },
    {
      "cell_type": "markdown",
      "metadata": {
        "id": "ppexRpmnK9FP"
      },
      "source": [
        "## Evaluate Performance\n",
        "\n",
        "Finally, print the loss and accuracy for both the train and test sets of the final trained model."
      ]
    },
    {
      "cell_type": "code",
      "execution_count": 22,
      "metadata": {
        "id": "m9UlM2ajK9FP",
        "outputId": "524fb5f8-19a1-4f3b-fcd6-79d8ccc9d630",
        "colab": {
          "base_uri": "https://localhost:8080/"
        }
      },
      "outputs": [
        {
          "output_type": "stream",
          "name": "stdout",
          "text": [
            "1829/1829 [==============================] - 9s 5ms/step - loss: 1.5321 - accuracy: 0.7798\n"
          ]
        },
        {
          "output_type": "execute_result",
          "data": {
            "text/plain": [
              "[1.532128095626831, 0.7798119783401489]"
            ]
          },
          "metadata": {},
          "execution_count": 22
        }
      ],
      "source": [
        "# Print the loss and accuracy for the training set\n",
        "results_train = model.evaluate(train, label_train)\n",
        "results_train"
      ]
    },
    {
      "cell_type": "code",
      "execution_count": 23,
      "metadata": {
        "id": "ZEryZhwuK9FP",
        "outputId": "7c47134d-7a38-469f-bbb4-635626fbada7",
        "colab": {
          "base_uri": "https://localhost:8080/"
        }
      },
      "outputs": [
        {
          "output_type": "stream",
          "name": "stdout",
          "text": [
            "47/47 [==============================] - 0s 2ms/step - loss: 0.2210 - accuracy: 0.9347\n"
          ]
        },
        {
          "output_type": "execute_result",
          "data": {
            "text/plain": [
              "[0.22101357579231262, 0.9346666932106018]"
            ]
          },
          "metadata": {},
          "execution_count": 23
        }
      ],
      "source": [
        "# Print the loss and accuracy for the test set\n",
        "results_test = model.evaluate(test, label_test)\n",
        "results_test"
      ]
    },
    {
      "cell_type": "markdown",
      "metadata": {
        "id": "vpE1S3IZK9FP"
      },
      "source": [
        "We can see that the training set results are really good, and the test set results seem to be even better. In general, this type of result will be rare, as train set results are usually at least a bit better than test set results.\n",
        "\n",
        "## Summary\n",
        "\n",
        "Congratulations! In this lab, you built a neural network thanks to the tools provided by Keras! In upcoming lessons and labs we'll continue to investigate further ideas regarding how to tune and refine these models for increased accuracy and performance."
      ]
    }
  ],
  "metadata": {
    "kernelspec": {
      "display_name": "Python 3",
      "language": "python",
      "name": "python3"
    },
    "language_info": {
      "codemirror_mode": {
        "name": "ipython",
        "version": 3
      },
      "file_extension": ".py",
      "mimetype": "text/x-python",
      "name": "python",
      "nbconvert_exporter": "python",
      "pygments_lexer": "ipython3",
      "version": "3.6.9"
    },
    "toc": {
      "base_numbering": 1,
      "nav_menu": {},
      "number_sections": true,
      "sideBar": true,
      "skip_h1_title": false,
      "title_cell": "Table of Contents",
      "title_sidebar": "Contents",
      "toc_cell": false,
      "toc_position": {},
      "toc_section_display": true,
      "toc_window_display": false
    },
    "colab": {
      "provenance": []
    }
  },
  "nbformat": 4,
  "nbformat_minor": 0
}